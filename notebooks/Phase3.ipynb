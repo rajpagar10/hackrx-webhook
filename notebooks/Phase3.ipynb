{
 "cells": [
  {
   "cell_type": "markdown",
   "id": "34c0e16c",
   "metadata": {},
   "source": [
    " Accept and Normalize User Input – focusing on:\n",
    "\n",
    "Cleaning input\n",
    "\n",
    "Lowercasing\n",
    "\n",
    "Removing extra whitespace\n",
    "\n",
    "Removing unnecessary punctuation\n",
    "(without expanding abbreviations like PED)\n",
    "\n"
   ]
  },
  {
   "cell_type": "code",
   "execution_count": 1,
   "id": "cbd5ac40",
   "metadata": {},
   "outputs": [
    {
     "name": "stdout",
     "output_type": "stream",
     "text": [
      "Normalized Query: what is the grace period for premium payment under the national parivar mediclaim plus policy\n"
     ]
    }
   ],
   "source": [
    "import re\n",
    "\n",
    "def normalize_user_query(query: str) -> str:\n",
    "    \"\"\"\n",
    "    Cleans and normalizes a user query without expanding abbreviations.\n",
    "    \n",
    "    Args:\n",
    "        query (str): Raw user input.\n",
    "        \n",
    "    Returns:\n",
    "        str: Normalized query.\n",
    "    \"\"\"\n",
    "    # 1. Convert to lowercase\n",
    "    query = query.lower()\n",
    "\n",
    "    # 2. Remove unnecessary punctuation (preserve medical terms like NCD, PED)\n",
    "    query = re.sub(r\"[^\\w\\s\\-\\/()]\", \"\", query)\n",
    "\n",
    "    # 3. Collapse multiple whitespaces\n",
    "    query = re.sub(r\"\\s+\", \" \", query).strip()\n",
    "\n",
    "    return query\n",
    "\n",
    "\n",
    "# 🔎 Example usage\n",
    "raw_query = \"What is the grace period for premium payment under the National Parivar Mediclaim Plus Policy?\"\n",
    "normalized_query = normalize_user_query(raw_query)\n",
    "\n",
    "print(\"Normalized Query:\", normalized_query)\n"
   ]
  },
  {
   "cell_type": "markdown",
   "id": "721bc5c8",
   "metadata": {},
   "source": [
    "\n",
    " Query Classification & Intent Recognition.\n"
   ]
  },
  {
   "cell_type": "code",
   "execution_count": 5,
   "id": "d91d771b",
   "metadata": {},
   "outputs": [
    {
     "name": "stdout",
     "output_type": "stream",
     "text": [
      "Normalized Query: what is the waiting period for cataract surgery\n",
      "Query Category: Waiting Period\n",
      "Matched Keywords: ['waiting period']\n"
     ]
    }
   ],
   "source": [
    "import re\n",
    "from typing import Dict, Tuple\n",
    "\n",
    "# Step 3.1 — Normalization function (same as before)\n",
    "def normalize_user_query(query: str) -> str:\n",
    "    query = query.lower()\n",
    "    query = re.sub(r\"[^\\w\\s\\-\\/()]\", \"\", query)\n",
    "    query = re.sub(r\"\\s+\", \" \", query).strip()\n",
    "    return query\n",
    "\n",
    "# Step 3.2 — Category keywords\n",
    "CATEGORY_KEYWORDS = {\n",
    "    \"Coverage\": [\"cover\", \"coverage\", \"included\", \"include\", \"insured\", \"covered\"],\n",
    "    \"Waiting Period\": [\"waiting period\", \"how long\", \"after how many\", \"time before\", \"initial waiting\"],\n",
    "    \"Eligibility\": [\"eligibility\", \"who is eligible\", \"criteria\", \"conditions to apply\"],\n",
    "    \"Limits\": [\"limit\", \"maximum\", \"cap\", \"restricted\", \"sub-limit\", \"restriction\"],\n",
    "    \"Definition\": [\"define\", \"definition\", \"what is\"],\n",
    "    \"Discounts\": [\"no claim\", \"ncd\", \"discount\", \"bonus\"],\n",
    "    \"Benefits\": [\"benefit\", \"advantage\", \"reward\", \"perk\", \"preventive\"],\n",
    "    \"Hospitalization\": [\"hospital\", \"icu\", \"room rent\", \"admission\"],\n",
    "    \"AYUSH\": [\"ayurveda\", \"homeopathy\", \"ayush\", \"unani\", \"naturopathy\", \"siddha\"],\n",
    "    \"Maternity\": [\"maternity\", \"childbirth\", \"pregnancy\", \"delivery\", \"termination\"],\n",
    "}\n",
    "\n",
    "# Step 3.2 — Classification function\n",
    "def classify_query(query: str, category_keywords: Dict[str, list]) -> Tuple[str, list]:\n",
    "    matched_keywords = []\n",
    "    matched_category = \"Unknown\"\n",
    "\n",
    "    for category, keywords in category_keywords.items():\n",
    "        for kw in keywords:\n",
    "            if re.search(rf\"\\b{re.escape(kw)}\\b\", query, re.IGNORECASE):\n",
    "                matched_keywords.append(kw)\n",
    "                matched_category = category\n",
    "                break\n",
    "        if matched_category != \"Unknown\":\n",
    "            break\n",
    "\n",
    "    return matched_category, matched_keywords\n",
    "\n",
    "# 🔎 Test Example\n",
    "raw_query = \"What is the waiting period for cataract surgery?\"\n",
    "normalized = normalize_user_query(raw_query)\n",
    "category, entities = classify_query(normalized, CATEGORY_KEYWORDS)\n",
    "\n",
    "print(\"Normalized Query:\", normalized)\n",
    "print(\"Query Category:\", category)\n",
    "print(\"Matched Keywords:\", entities)\n"
   ]
  },
  {
   "cell_type": "markdown",
   "id": "e73794df",
   "metadata": {},
   "source": [
    "Step 3.3 – Canonicalization & Synonym Mapping\n",
    "\n"
   ]
  },
  {
   "cell_type": "code",
   "execution_count": 6,
   "id": "9cc6cb96",
   "metadata": {},
   "outputs": [
    {
     "name": "stdout",
     "output_type": "stream",
     "text": [
      "Original Query: Is there any bonus if I don’t make a claim?\n",
      "Normalized: is there any bonus if i dont make a claim\n",
      "Canonicalized: is there any no claim discount if i dont make a claim\n"
     ]
    }
   ],
   "source": [
    "import re\n",
    "\n",
    "# Step 3.3 — Canonical mapping dictionary\n",
    "SYNONYM_MAP = {\n",
    "    \"eye operation\": \"cataract surgery\",\n",
    "    \"eye surgery\": \"cataract surgery\",\n",
    "    \"no claim bonus\": \"no claim discount\",\n",
    "    \"bonus\": \"no claim discount\",\n",
    "    \"preventive checkup\": \"preventive health check-up\",\n",
    "    \"checkup\": \"health check-up\",\n",
    "    \"pregnancy cost\": \"maternity expenses\",\n",
    "    \"delivery cost\": \"maternity expenses\",\n",
    "    \"hospital definition\": \"hospital\",\n",
    "    \"room charges\": \"room rent\",\n",
    "    \"icu charges\": \"icu charges\",  # could be left as is, if it's already canonical\n",
    "    \"ncd\": \"no claim discount\",\n",
    "    \"ped\": \"pre-existing disease\"\n",
    "}\n",
    "\n",
    "def canonicalize_query(query: str, synonym_map: dict) -> str:\n",
    "    \"\"\"\n",
    "    Replace terms in the query with their canonical equivalents using a mapping.\n",
    "    \"\"\"\n",
    "    for phrase, canonical in synonym_map.items():\n",
    "        pattern = rf\"\\b{re.escape(phrase)}\\b\"\n",
    "        query = re.sub(pattern, canonical, query, flags=re.IGNORECASE)\n",
    "    return query\n",
    "\n",
    "\n",
    "# 🔎 Example usage\n",
    "raw_query = \"Is there any bonus if I don’t make a claim?\"\n",
    "from_step3_1 = normalize_user_query(raw_query)\n",
    "canonical_query = canonicalize_query(from_step3_1, SYNONYM_MAP)\n",
    "\n",
    "print(\"Original Query:\", raw_query)\n",
    "print(\"Normalized:\", from_step3_1)\n",
    "print(\"Canonicalized:\", canonical_query)\n"
   ]
  },
  {
   "cell_type": "code",
   "execution_count": 10,
   "id": "21f8aff9",
   "metadata": {},
   "outputs": [
    {
     "name": "stdout",
     "output_type": "stream",
     "text": [
      "Final Query for Vector Search: does the plan include cataract surgery\n",
      "Embedding Vector (first 5 values): [-0.02212147  0.00739667  0.00522298 -0.01729682  0.05961149]\n"
     ]
    }
   ],
   "source": [
    "from sentence_transformers import SentenceTransformer\n",
    "import numpy as np\n",
    "\n",
    "# Load embedding model (same as used in Phase 2)\n",
    "model = SentenceTransformer('BAAI/bge-base-en-v1.5')  # or your selected model\n",
    "\n",
    "def get_query_embedding(canonical_query: str) -> np.ndarray:\n",
    "    \"\"\"\n",
    "    Convert the canonicalized query to a dense vector using the embedding model.\n",
    "    \n",
    "    Args:\n",
    "        canonical_query (str): Preprocessed query string.\n",
    "    \n",
    "    Returns:\n",
    "        np.ndarray: Embedding vector for semantic search.\n",
    "    \"\"\"\n",
    "    embedding = model.encode(canonical_query, normalize_embeddings=True)\n",
    "    return embedding\n",
    "\n",
    "\n",
    "# 🧪 Example Usage\n",
    "raw_query = \"Does the plan include eye operation?\"\n",
    "normalized = normalize_user_query(raw_query)\n",
    "canonical = canonicalize_query(normalized, SYNONYM_MAP)\n",
    "query_vector = get_query_embedding(canonical)\n",
    "\n",
    "print(\"Final Query for Vector Search:\", canonical)\n",
    "print(\"Embedding Vector (first 5 values):\", query_vector[:5])  # just previewing\n",
    "\n",
    "\n",
    "\n",
    "\n",
    "\n"
   ]
  }
 ],
 "metadata": {
  "kernelspec": {
   "display_name": "Python 3",
   "language": "python",
   "name": "python3"
  },
  "language_info": {
   "codemirror_mode": {
    "name": "ipython",
    "version": 3
   },
   "file_extension": ".py",
   "mimetype": "text/x-python",
   "name": "python",
   "nbconvert_exporter": "python",
   "pygments_lexer": "ipython3",
   "version": "3.13.2"
  }
 },
 "nbformat": 4,
 "nbformat_minor": 5
}
